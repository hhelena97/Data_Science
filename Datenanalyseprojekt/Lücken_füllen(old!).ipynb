{
 "cells": [
  {
   "cell_type": "code",
   "execution_count": 1,
   "id": "0e5e0fb3",
   "metadata": {},
   "outputs": [],
   "source": [
    "import matplotlib.pyplot as plt\n",
    "import numpy as np\n",
    "import pandas as pd"
   ]
  },
  {
   "cell_type": "code",
   "execution_count": 2,
   "id": "faacbf52",
   "metadata": {},
   "outputs": [],
   "source": [
    "df_2016 = pd.read_csv('2016_data_integrated.csv', index_col='Datetime', parse_dates=True)\n",
    "df_2017 = pd.read_csv('2017_data_integrated.csv', index_col='Datetime', parse_dates=True)\n",
    "df_2018 = pd.read_csv('2018_data_integrated.csv', index_col='Datetime', parse_dates=True)\n",
    "df_2019 = pd.read_csv('2019_data_integrated.csv', index_col='Datetime', parse_dates=True)\n",
    "df_2020 = pd.read_csv('2020_data_integrated.csv', index_col='Datetime', parse_dates=True)\n",
    "df_2021 = pd.read_csv('2021_data_integrated.csv', index_col='Datetime', parse_dates=True)\n",
    "df_2022 = pd.read_csv('2022_data_integrated.csv', index_col='Datetime', parse_dates=True)\n",
    "df_2020_negative = pd.read_csv('df_Bonn2020.csv', index_col='Time', parse_dates=True)\n",
    "df_2021_negative = pd.read_csv('df_Bonn2021.csv', index_col='Time', parse_dates=True)\n",
    "df_2022_negative = pd.read_csv('df_Bonn2022.csv', index_col='Datum/Uhrzeit', parse_dates=True)"
   ]
  },
  {
   "cell_type": "code",
   "execution_count": 3,
   "id": "eb046b84",
   "metadata": {},
   "outputs": [
    {
     "ename": "KeyError",
     "evalue": "('Temperature (°C)', 'Precipitations (mm)', 'Wind Speed (m/s)')",
     "output_type": "error",
     "traceback": [
      "\u001b[1;31m---------------------------------------------------------------------------\u001b[0m",
      "\u001b[1;31mKeyError\u001b[0m                                  Traceback (most recent call last)",
      "File \u001b[1;32m~\\AppData\\Local\\Programs\\Python\\Python311\\Lib\\site-packages\\pandas\\core\\indexes\\base.py:3652\u001b[0m, in \u001b[0;36mIndex.get_loc\u001b[1;34m(self, key)\u001b[0m\n\u001b[0;32m   3651\u001b[0m \u001b[38;5;28;01mtry\u001b[39;00m:\n\u001b[1;32m-> 3652\u001b[0m     \u001b[38;5;28;01mreturn\u001b[39;00m \u001b[38;5;28;43mself\u001b[39;49m\u001b[38;5;241;43m.\u001b[39;49m\u001b[43m_engine\u001b[49m\u001b[38;5;241;43m.\u001b[39;49m\u001b[43mget_loc\u001b[49m\u001b[43m(\u001b[49m\u001b[43mcasted_key\u001b[49m\u001b[43m)\u001b[49m\n\u001b[0;32m   3653\u001b[0m \u001b[38;5;28;01mexcept\u001b[39;00m \u001b[38;5;167;01mKeyError\u001b[39;00m \u001b[38;5;28;01mas\u001b[39;00m err:\n",
      "File \u001b[1;32m~\\AppData\\Local\\Programs\\Python\\Python311\\Lib\\site-packages\\pandas\\_libs\\index.pyx:147\u001b[0m, in \u001b[0;36mpandas._libs.index.IndexEngine.get_loc\u001b[1;34m()\u001b[0m\n",
      "File \u001b[1;32m~\\AppData\\Local\\Programs\\Python\\Python311\\Lib\\site-packages\\pandas\\_libs\\index.pyx:176\u001b[0m, in \u001b[0;36mpandas._libs.index.IndexEngine.get_loc\u001b[1;34m()\u001b[0m\n",
      "File \u001b[1;32mpandas\\_libs\\hashtable_class_helper.pxi:7080\u001b[0m, in \u001b[0;36mpandas._libs.hashtable.PyObjectHashTable.get_item\u001b[1;34m()\u001b[0m\n",
      "File \u001b[1;32mpandas\\_libs\\hashtable_class_helper.pxi:7088\u001b[0m, in \u001b[0;36mpandas._libs.hashtable.PyObjectHashTable.get_item\u001b[1;34m()\u001b[0m\n",
      "\u001b[1;31mKeyError\u001b[0m: ('Temperature (°C)', 'Precipitations (mm)', 'Wind Speed (m/s)')",
      "\nThe above exception was the direct cause of the following exception:\n",
      "\u001b[1;31mKeyError\u001b[0m                                  Traceback (most recent call last)",
      "Cell \u001b[1;32mIn[3], line 4\u001b[0m\n\u001b[0;32m      2\u001b[0m df_from2020 \u001b[38;5;241m=\u001b[39m pd\u001b[38;5;241m.\u001b[39mconcat([df_2020_negative, df_2021_negative, df_2022_negative])\n\u001b[0;32m      3\u001b[0m df_from2020_weather \u001b[38;5;241m=\u001b[39m pd\u001b[38;5;241m.\u001b[39mconcat([df_2020, df_2021, df_2022])\n\u001b[1;32m----> 4\u001b[0m df_from2020_weather \u001b[38;5;241m=\u001b[39m \u001b[43mdf_from2020_weather\u001b[49m\u001b[43m[\u001b[49m\u001b[38;5;124;43m'\u001b[39;49m\u001b[38;5;124;43mTemperature (°C)\u001b[39;49m\u001b[38;5;124;43m'\u001b[39;49m\u001b[43m,\u001b[49m\u001b[43m \u001b[49m\u001b[38;5;124;43m'\u001b[39;49m\u001b[38;5;124;43mPrecipitations (mm)\u001b[39;49m\u001b[38;5;124;43m'\u001b[39;49m\u001b[43m,\u001b[49m\u001b[43m \u001b[49m\u001b[38;5;124;43m'\u001b[39;49m\u001b[38;5;124;43mWind Speed (m/s)\u001b[39;49m\u001b[38;5;124;43m'\u001b[39;49m\u001b[43m]\u001b[49m\n\u001b[0;32m      5\u001b[0m df_from2020 \u001b[38;5;241m=\u001b[39m pd\u001b[38;5;241m.\u001b[39mconcat([df_from2020_weather, df_from2020], axis\u001b[38;5;241m=\u001b[39m\u001b[38;5;241m1\u001b[39m)\n",
      "File \u001b[1;32m~\\AppData\\Local\\Programs\\Python\\Python311\\Lib\\site-packages\\pandas\\core\\frame.py:3761\u001b[0m, in \u001b[0;36mDataFrame.__getitem__\u001b[1;34m(self, key)\u001b[0m\n\u001b[0;32m   3759\u001b[0m \u001b[38;5;28;01mif\u001b[39;00m \u001b[38;5;28mself\u001b[39m\u001b[38;5;241m.\u001b[39mcolumns\u001b[38;5;241m.\u001b[39mnlevels \u001b[38;5;241m>\u001b[39m \u001b[38;5;241m1\u001b[39m:\n\u001b[0;32m   3760\u001b[0m     \u001b[38;5;28;01mreturn\u001b[39;00m \u001b[38;5;28mself\u001b[39m\u001b[38;5;241m.\u001b[39m_getitem_multilevel(key)\n\u001b[1;32m-> 3761\u001b[0m indexer \u001b[38;5;241m=\u001b[39m \u001b[38;5;28;43mself\u001b[39;49m\u001b[38;5;241;43m.\u001b[39;49m\u001b[43mcolumns\u001b[49m\u001b[38;5;241;43m.\u001b[39;49m\u001b[43mget_loc\u001b[49m\u001b[43m(\u001b[49m\u001b[43mkey\u001b[49m\u001b[43m)\u001b[49m\n\u001b[0;32m   3762\u001b[0m \u001b[38;5;28;01mif\u001b[39;00m is_integer(indexer):\n\u001b[0;32m   3763\u001b[0m     indexer \u001b[38;5;241m=\u001b[39m [indexer]\n",
      "File \u001b[1;32m~\\AppData\\Local\\Programs\\Python\\Python311\\Lib\\site-packages\\pandas\\core\\indexes\\base.py:3654\u001b[0m, in \u001b[0;36mIndex.get_loc\u001b[1;34m(self, key)\u001b[0m\n\u001b[0;32m   3652\u001b[0m     \u001b[38;5;28;01mreturn\u001b[39;00m \u001b[38;5;28mself\u001b[39m\u001b[38;5;241m.\u001b[39m_engine\u001b[38;5;241m.\u001b[39mget_loc(casted_key)\n\u001b[0;32m   3653\u001b[0m \u001b[38;5;28;01mexcept\u001b[39;00m \u001b[38;5;167;01mKeyError\u001b[39;00m \u001b[38;5;28;01mas\u001b[39;00m err:\n\u001b[1;32m-> 3654\u001b[0m     \u001b[38;5;28;01mraise\u001b[39;00m \u001b[38;5;167;01mKeyError\u001b[39;00m(key) \u001b[38;5;28;01mfrom\u001b[39;00m \u001b[38;5;21;01merr\u001b[39;00m\n\u001b[0;32m   3655\u001b[0m \u001b[38;5;28;01mexcept\u001b[39;00m \u001b[38;5;167;01mTypeError\u001b[39;00m:\n\u001b[0;32m   3656\u001b[0m     \u001b[38;5;66;03m# If we have a listlike key, _check_indexing_error will raise\u001b[39;00m\n\u001b[0;32m   3657\u001b[0m     \u001b[38;5;66;03m#  InvalidIndexError. Otherwise we fall through and re-raise\u001b[39;00m\n\u001b[0;32m   3658\u001b[0m     \u001b[38;5;66;03m#  the TypeError.\u001b[39;00m\n\u001b[0;32m   3659\u001b[0m     \u001b[38;5;28mself\u001b[39m\u001b[38;5;241m.\u001b[39m_check_indexing_error(key)\n",
      "\u001b[1;31mKeyError\u001b[0m: ('Temperature (°C)', 'Precipitations (mm)', 'Wind Speed (m/s)')"
     ]
    }
   ],
   "source": [
    "df_till2019 = pd.concat([df_2016, df_2017, df_2018, df_2019])\n",
    "df_from2020 = pd.concat([df_2020_negative, df_2021_negative, df_2022_negative])\n",
    "df_from2020_weather = pd.concat([df_2020, df_2021, df_2022])\n",
    "df_from2020_weather = df_from2020_weather['Temperature (°C)', 'Precipitations (mm)', 'Wind Speed (m/s)']\n",
    "df_from2020 = pd.concat([df_from2020_weather, df_from2020], axis=1)"
   ]
  },
  {
   "cell_type": "code",
   "execution_count": null,
   "id": "fd6a7bf8",
   "metadata": {},
   "outputs": [],
   "source": [
    "new_column_names = {\n",
    "    'Kennedybrücke': 'KennedyBrücke',\n",
    "    'Nordbrücke': 'NordBrücke',\n",
    "    'Südbrücke': 'SüdBrücke',\n",
    "    'Von-Sandt-Ufer': 'VonSandtUfer',\n",
    "    'Brühler Straße': 'BrühlerStraße',\n",
    "    'Wilhelm-Spiritus-Ufer': 'WilhelmSpiritusUfer',\n",
    "    'Mc Cloy Weg': 'McCloyWeg',\n",
    "    'Weg auf Damm Neil': 'WegDammBonnBeuel'\n",
    "}\n",
    "df_from2020 = df_from2020.rename(columns=new_column_names)\n",
    "df_from2020.columns"
   ]
  },
  {
   "cell_type": "code",
   "execution_count": null,
   "id": "15435274",
   "metadata": {},
   "outputs": [],
   "source": [
    "df_till2019.to_csv('df_till2019.csv')\n",
    "df_from2020.to_csv('df_from2020.csv')"
   ]
  },
  {
   "cell_type": "code",
   "execution_count": null,
   "id": "171bb722",
   "metadata": {},
   "outputs": [],
   "source": [
    "df_all = pd.concat([df_till2019, df_from2020])\n",
    "df_all"
   ]
  },
  {
   "cell_type": "code",
   "execution_count": null,
   "id": "4919e1d6",
   "metadata": {},
   "outputs": [],
   "source": [
    "df_standort = df_all[['KennedyBrücke', 'NordBrücke', 'SüdBrücke', 'Estermannufer',\n",
    "       'VonSandtUfer', 'Rhenusallee', 'BrühlerStraße',\n",
    "       'WilhelmSpiritusUfer', 'McCloyWeg', 'WegDammBonnBeuel']]"
   ]
  },
  {
   "cell_type": "code",
   "execution_count": null,
   "id": "7f4d1630",
   "metadata": {
    "scrolled": false
   },
   "outputs": [],
   "source": [
    "plt.figure(figsize=(20,6))\n",
    "df_standort.plot()\n",
    "plt.title('2016-2022')\n",
    "plt.ylabel('Anzahl Fahrräder')\n",
    "plt.xlabel('Jahr')\n",
    "plt.grid()\n",
    "plt.show()"
   ]
  },
  {
   "cell_type": "markdown",
   "id": "dfdc6b6e",
   "metadata": {},
   "source": [
    "### 1. Ansatz: Lücken füllen mit berechneten monatlichen Mittelwerten"
   ]
  },
  {
   "cell_type": "code",
   "execution_count": null,
   "id": "5641844a",
   "metadata": {},
   "outputs": [],
   "source": [
    "df_all[df_all < 0] = np.nan"
   ]
  },
  {
   "cell_type": "code",
   "execution_count": null,
   "id": "c3548160",
   "metadata": {},
   "outputs": [],
   "source": [
    "#Mittelwerte aus den Monaten\n",
    "kennedybrücke_monthly_median = df_all.groupby(df_all.index.month)['Kennedybrücke'].median()\n",
    "nordbrücke_monthly_median = df_all.groupby(df_all.index.month)['Nordbrücke'].median()\n",
    "südbrücke_monthly_median = df_all.groupby(df_all.index.month)['Südbrücke'].median()\n",
    "estermannufer_monthly_median = df_all.groupby(df_all.index.month)['Estermannufer'].median()\n",
    "von_sandt_ufer__monthly_median = df_all.groupby(df_all.index.month)['Von-Sandt-Ufer'].median()\n",
    "rhenusallee_monthly_median = df_all.groupby(df_all.index.month)['Rhenusallee'].median()\n",
    "brühler_straße_monthly_median = df_all.groupby(df_all.index.month)['Brühler Straße'].median()\n",
    "wilhelm_spiritus_ufer_monthly_median = df_all.groupby(df_all.index.month)['Wilhelm-Spiritus-Ufer'].median()\n",
    "mccloy_weg_monthly_median = df_all.groupby(df_all.index.month)['Mc Cloy Weg'].median()\n",
    "weg_auf_damm_neil__monthly_median = df_all.groupby(df_all.index.month)['Weg auf Damm Neil'].median()\n",
    "\n",
    "df_medians = pd.concat([kennedybrücke_monthly_median, nordbrücke_monthly_median, südbrücke_monthly_median, \n",
    "                       estermannufer_monthly_median, von_sandt_ufer__monthly_median, rhenusallee_monthly_median,\n",
    "                       brühler_straße_monthly_median, wilhelm_spiritus_ufer_monthly_median, mccloy_weg_monthly_median,\n",
    "                       weg_auf_damm_neil__monthly_median], axis=1)\n",
    "df_medians = df_medians.astype(int)\n",
    "df_medians"
   ]
  },
  {
   "cell_type": "code",
   "execution_count": null,
   "id": "88133f8a",
   "metadata": {},
   "outputs": [],
   "source": [
    "missing_values = df_all.isna()\n",
    "\n",
    "#Imputieren\n",
    "df_monthly_avg_imputed = df_all.copy()\n",
    "\n",
    "#Über alle Standorte iterieren\n",
    "for standort in df_monthly_avg_imputed.columns:\n",
    "    \n",
    "    monthly_medians = df_medians[standort]\n",
    "    #Über alle Monate iterieren\n",
    "    for month in range(1, 13):\n",
    "       \n",
    "        df_monthly_avg_imputed.loc[df_monthly_avg_imputed.index.month == month, standort] = np.where(\n",
    "            #Bedingung: Wert ist als 'missing markiert'\n",
    "            missing_values.loc[df_monthly_avg_imputed.index.month == month, standort],\n",
    "            #True: imputiere Mittelwert\n",
    "            monthly_medians[month],\n",
    "            #Sonst: nehme Originalmesswert\n",
    "            df_monthly_avg_imputed.loc[df_monthly_avg_imputed.index.month == month, standort])"
   ]
  },
  {
   "cell_type": "code",
   "execution_count": null,
   "id": "d40ab0ad",
   "metadata": {},
   "outputs": [],
   "source": [
    "df_all.loc['2017-03-26 02:00:00']"
   ]
  },
  {
   "cell_type": "code",
   "execution_count": null,
   "id": "c0ab8d88",
   "metadata": {},
   "outputs": [],
   "source": [
    "df_monthly_avg_imputed.loc['2017-03-26 02:00:00']"
   ]
  },
  {
   "cell_type": "markdown",
   "id": "c70dfb68",
   "metadata": {},
   "source": [
    "### 2. Ansatz: Seasonal Decomposition mit statsmodels"
   ]
  },
  {
   "cell_type": "code",
   "execution_count": null,
   "id": "b4123e52",
   "metadata": {},
   "outputs": [],
   "source": [
    "df_stl_imputed = df_all.copy()\n",
    "\n",
    "def stl_berechnen(df, standort):\n",
    "    '''\n",
    "    Ersetzt die fehlenden Werte eines Standorts durch Saison-Trend-Zerlegung\n",
    "    \n",
    "    Parameter: df: der Datensatz\n",
    "               standort: der Standort/ die Spalte\n",
    "               \n",
    "    Returns:   berechnete_werte: die komplette Zeitreihe(Standort) mit gefüllten Lücken\n",
    "    \n",
    "    '''\n",
    "    stl = STL(df[standort], period=24, seasonal=13)\n",
    "    result = stl.fit()\n",
    "    berechnete_werte = result.trend + result.seasonal + result.resid\n",
    "    return berechnete_werte\n",
    "\n",
    "for standort in df_stl_imputed.columns:\n",
    "    \n",
    "    stl_values = stl_berechnen(df_stl_imputed, standort)\n",
    "    df_stl_imputed[standort] = np.where(df_stl_imputed[standort], stl_values, df_stl_imputed[standort])"
   ]
  },
  {
   "cell_type": "code",
   "execution_count": null,
   "id": "938a488c",
   "metadata": {},
   "outputs": [],
   "source": [
    "df_stl_imputed.loc['2017-03-26 02:00:00']"
   ]
  },
  {
   "cell_type": "markdown",
   "id": "bd2504c2",
   "metadata": {},
   "source": [
    "### 3. Ansatz: scikit Methoden "
   ]
  },
  {
   "cell_type": "code",
   "execution_count": null,
   "id": "a2e1bcec",
   "metadata": {},
   "outputs": [],
   "source": [
    "#Fehlende Werte durch häufigst vorkommenden Wert ersetzen\n",
    "imputer = SimpleImputer(strategy='most_frequent')\n",
    "df_most_frequent_imputed = pd.DataFrame(imputer.fit_transform(df_all), columns=df_all.columns, index=df_all.index)\n",
    "df_most_frequent_imputed.loc['2017-03-26 02:00:00']"
   ]
  },
  {
   "cell_type": "code",
   "execution_count": null,
   "id": "e83c769a",
   "metadata": {},
   "outputs": [],
   "source": [
    "imputer2 = KNNImputer(n_neighbors=2)\n",
    "df_kNN_imputed = pd.DataFrame(imputer2.fit_transform(df_all), columns=df_all.columns, index=df_all.index)\n",
    "df_kNN_imputed.loc['2017-03-26 02:00:00']"
   ]
  },
  {
   "cell_type": "code",
   "execution_count": null,
   "id": "1c92a65d",
   "metadata": {},
   "outputs": [],
   "source": [
    "df_all.loc['2017-03-26 01:00:00']"
   ]
  },
  {
   "cell_type": "code",
   "execution_count": null,
   "id": "c534e15d",
   "metadata": {},
   "outputs": [],
   "source": [
    "df_all.loc['2017-03-26 03:00:00']"
   ]
  },
  {
   "cell_type": "markdown",
   "id": "c5f5807e",
   "metadata": {},
   "source": [
    "### 4. Ansatz: Gewichtung der monatlichen Mittelwerte durch Uhrzeit"
   ]
  },
  {
   "cell_type": "code",
   "execution_count": null,
   "id": "fd59fa91",
   "metadata": {
    "scrolled": true
   },
   "outputs": [],
   "source": [
    "#Mittelwerte der Stunden\n",
    "kennedybrücke_hourly_median = df_all.groupby(df_all.index.hour)['Kennedybrücke'].median()\n",
    "nordbrücke_hourly_median = df_all.groupby(df_all.index.hour)['Nordbrücke'].median()\n",
    "südbrücke_hourly_median = df_all.groupby(df_all.index.hour)['Südbrücke'].median()\n",
    "estermannufer_hourly_median = df_all.groupby(df_all.index.hour)['Estermannufer'].median()\n",
    "von_sandt_ufer_hourly_median = df_all.groupby(df_all.index.hour)['Von-Sandt-Ufer'].median()\n",
    "rhenusallee_hourly_median = df_all.groupby(df_all.index.hour)['Rhenusallee'].median()\n",
    "brühler_straße_hourly_median = df_all.groupby(df_all.index.hour)['Brühler Straße'].median()\n",
    "wilhelm_spiritus_ufer_hourly_median = df_all.groupby(df_all.index.hour)['Wilhelm-Spiritus-Ufer'].median()\n",
    "mccloy_weg_hourly_median = df_all.groupby(df_all.index.hour)['Mc Cloy Weg'].median()\n",
    "weg_auf_damm_neil_hourly_median = df_all.groupby(df_all.index.hour)['Weg auf Damm Neil'].median()\n",
    "\n",
    "df_medians_hourly = pd.concat([kennedybrücke_hourly_median, nordbrücke_hourly_median, südbrücke_hourly_median, \n",
    "                       estermannufer_hourly_median, von_sandt_ufer_hourly_median, rhenusallee_hourly_median,\n",
    "                       brühler_straße_hourly_median, wilhelm_spiritus_ufer_hourly_median, mccloy_weg_hourly_median,\n",
    "                       weg_auf_damm_neil_hourly_median], axis=1)\n",
    "df_medians_hourly = df_medians_hourly.astype(int)\n",
    "df_medians_hourly"
   ]
  },
  {
   "cell_type": "code",
   "execution_count": null,
   "id": "056f3578",
   "metadata": {},
   "outputs": [],
   "source": [
    "correlation_matrix = df_medians.corrwith(df_medians_hourly, axis=0)\n",
    "correlation_matrix"
   ]
  },
  {
   "cell_type": "code",
   "execution_count": null,
   "id": "f8296a07",
   "metadata": {},
   "outputs": [],
   "source": [
    "def gewichtete_berechnung(standort, monat_mediane, stunde_mediane, correlation, monat, stunde):\n",
    "    \n",
    "    return correlation[standort] * monat_mediane.loc[monat] + (1-correlation[standort]) * stunde_mediane[stunde]\n",
    "\n",
    "\n",
    "df_weighted_imputed = df_all.copy()\n",
    "\n",
    "#Über alle Standorte iterieren\n",
    "for standort in df_weighted_imputed.columns:\n",
    "    monat_mediane = df_medians[standort]\n",
    "    stunde_mediane = df_medians_hourly[standort]\n",
    "    \n",
    "    #Über alle Monate iterieren\n",
    "    for month in range(1, 13):\n",
    "        \n",
    "        for hour in range(0, 24):\n",
    "            df_weighted_imputed.loc[\n",
    "                (df_weighted_imputed.index.month == month) & (df_weighted_imputed.index.hour == hour), standort\n",
    "            ] = np.where(\n",
    "                # Bedingung: Wert ist als 'missing markiert'\n",
    "                missing_values.loc[\n",
    "                    (df_monthly_avg_imputed.index.month == month) & (df_monthly_avg_imputed.index.hour == hour), standort\n",
    "                ],\n",
    "                # True: imputiere gewichteten Mittelwert\n",
    "                gewichtete_berechnung(standort, monat_mediane, stunde_mediane, correlation_matrix, month, hour),\n",
    "                # Sonst: nehme Originalmesswert\n",
    "                df_monthly_avg_imputed.loc[\n",
    "                    (df_monthly_avg_imputed.index.month == month) & (df_monthly_avg_imputed.index.hour == hour), standort\n",
    "                ]\n",
    "            )"
   ]
  },
  {
   "cell_type": "code",
   "execution_count": null,
   "id": "105dbf26",
   "metadata": {},
   "outputs": [],
   "source": [
    "df_weighted_imputed.loc['2017-03-26 02:00:00']"
   ]
  },
  {
   "cell_type": "code",
   "execution_count": null,
   "id": "f182cf30",
   "metadata": {},
   "outputs": [],
   "source": [
    "df_weighted_imputed.loc['2017-03-26 01:00:00']"
   ]
  },
  {
   "cell_type": "code",
   "execution_count": null,
   "id": "32d7b116",
   "metadata": {},
   "outputs": [],
   "source": [
    "df_weighted_imputed.loc['2017-03-26 03:00:00']"
   ]
  },
  {
   "cell_type": "markdown",
   "id": "0c6c62a0",
   "metadata": {},
   "source": [
    "### Abschließend: Ausreißer beseitigen"
   ]
  },
  {
   "cell_type": "code",
   "execution_count": null,
   "id": "7068499c",
   "metadata": {},
   "outputs": [],
   "source": [
    "outliers_mask = df_weighted_imputed > 1400\n",
    "df_shifted = df_weighted_imputed.shift(12)\n",
    "\n",
    "df_clean = df_weighted_imputed.where(~outliers_mask, df_shifted)\n",
    "df_clean = df_clean.round().astype(int)"
   ]
  },
  {
   "cell_type": "code",
   "execution_count": null,
   "id": "5aa123a0",
   "metadata": {
    "scrolled": false
   },
   "outputs": [],
   "source": [
    "plt.figure(figsize=(20,6))\n",
    "df_clean.plot()\n",
    "plt.title('2016-2022')\n",
    "plt.ylabel('Anzahl Fahrräder')\n",
    "plt.xlabel('Jahr')\n",
    "plt.grid()\n",
    "plt.show()"
   ]
  },
  {
   "cell_type": "code",
   "execution_count": null,
   "id": "26046802",
   "metadata": {},
   "outputs": [],
   "source": [
    "df_clean.to_csv('df_clean_standorte.csv')"
   ]
  }
 ],
 "metadata": {
  "kernelspec": {
   "display_name": "Python 3 (ipykernel)",
   "language": "python",
   "name": "python3"
  },
  "language_info": {
   "codemirror_mode": {
    "name": "ipython",
    "version": 3
   },
   "file_extension": ".py",
   "mimetype": "text/x-python",
   "name": "python",
   "nbconvert_exporter": "python",
   "pygments_lexer": "ipython3",
   "version": "3.11.2"
  }
 },
 "nbformat": 4,
 "nbformat_minor": 5
}
